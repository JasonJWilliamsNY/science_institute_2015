{
 "cells": [
  {
   "cell_type": "markdown",
   "metadata": {},
   "source": [
    "# Lesson 1: Hello World"
   ]
  },
  {
   "cell_type": "markdown",
   "metadata": {},
   "source": [
    "In this lesson, we will start with the very basics of python using this iPython notebook. We can use Python in a variety of methods (at the terminal, using an [IDE](https://en.wikipedia.org/wiki/Integrated_development_environment) etc. However the notebook is a great way to play with python with the support of lots of helpful notes. Let's start of getting to know Python with using the classic program 'Hello world'"
   ]
  },
  {
   "cell_type": "code",
   "execution_count": 3,
   "metadata": {
    "collapsed": false
   },
   "outputs": [
    {
     "name": "stdout",
     "output_type": "stream",
     "text": [
      "Hello world\n"
     ]
    }
   ],
   "source": [
    "print(\"Hello world\")"
   ]
  },
  {
   "cell_type": "markdown",
   "metadata": {},
   "source": [
    "To get the output of the above program, select the cell and then click the play button to run the command using Python"
   ]
  },
  {
   "cell_type": "markdown",
   "metadata": {},
   "source": [
    "#Exercise 1: Playing around with printing\n",
    "As you may notice in the code block above a Python keyword 'print' is highlighted in a color (green). We call 'print' a key word because this word has special meaning to Python. Python is considered one of the best languages for new coders to learn because compared to other programming languages it is much more intuitive. In the [C language](https://en.wikipedia.org/wiki/C_%28programming_language%29) for example, printing 'Hello World' would look something like this: \n",
    "\n",
    "\\#include< stdio.h >\n",
    "\n",
    "main()\n",
    "{\n",
    "    printf(\"Hello World\");\n",
    "\n",
    "\n",
    "}\n",
    "\n",
    "Although learning Python (and learning it well) will take effort, you can see why its considered simpler for a new learner. However Python *does* have rules you will have to follow. In the following execises, let's see what some of these rules are. "
   ]
  },
  {
   "cell_type": "markdown",
   "metadata": {},
   "source": [
    "### In the cell below, write the same program we used above to get the 'Hello World' statement\n",
    "**Do not** copy and paste! Once you have written the line of code, don't forget to hit 'run'"
   ]
  },
  {
   "cell_type": "code",
   "execution_count": null,
   "metadata": {
    "collapsed": false
   },
   "outputs": [],
   "source": []
  },
  {
   "cell_type": "markdown",
   "metadata": {},
   "source": [
    "Did you get 'Hello World' - is it capitolized correctly, is it exactly like the output of the example program?"
   ]
  },
  {
   "cell_type": "markdown",
   "metadata": {},
   "source": [
    "###Below are a few questions and tasks using the 'Hello World' example. Try them out!\n",
    "* Does capitalization matter in Python?\n",
    "* Do single quotes ' or double quotes \" matter in Python?\n",
    "* Does spacing matter in Python\n",
    "Play around with answering these questions (hopefully until you break something)\n",
    "\n",
    "**Tip**: You can reuse any of the empty code blocks. Just rewite any code and hit play again to rerun the cell. "
   ]
  },
  {
   "cell_type": "markdown",
   "metadata": {},
   "source": [
    "### Capitalization"
   ]
  },
  {
   "cell_type": "code",
   "execution_count": null,
   "metadata": {
    "collapsed": false
   },
   "outputs": [],
   "source": []
  },
  {
   "cell_type": "markdown",
   "metadata": {},
   "source": [
    "### Quotes"
   ]
  },
  {
   "cell_type": "code",
   "execution_count": null,
   "metadata": {
    "collapsed": false
   },
   "outputs": [],
   "source": []
  },
  {
   "cell_type": "markdown",
   "metadata": {},
   "source": [
    "### Spacing"
   ]
  },
  {
   "cell_type": "code",
   "execution_count": null,
   "metadata": {
    "collapsed": false
   },
   "outputs": [],
   "source": []
  },
  {
   "cell_type": "markdown",
   "metadata": {},
   "source": [
    "#Exercise 2: Doing math with Python\n",
    "\n",
    "Another useful feature of Python is doing math:"
   ]
  },
  {
   "cell_type": "code",
   "execution_count": null,
   "metadata": {
    "collapsed": false
   },
   "outputs": [],
   "source": [
    "2 + 2"
   ]
  },
  {
   "cell_type": "markdown",
   "metadata": {},
   "source": [
    "You can use any of several math operators:\n",
    "\n",
    "|Syntax|Math|\n",
    "|------|----|\n",
    "|( )|Parenthensis - think PEMDAS|\n",
    "|a\\*\\*b|exponentiation|\n",
    "|a\\*b|multiplication|\n",
    "|a/b|division|\n",
    "|a+b|addition|\n",
    "|a-b|subtraction|\n",
    "\n",
    "There are a few other special math functions - see [Python basic math](https://en.wikibooks.org/wiki/Python_Programming/Basic_Math)\n",
    "\n",
    "Try some of the math functions below:"
   ]
  },
  {
   "cell_type": "code",
   "execution_count": null,
   "metadata": {
    "collapsed": false
   },
   "outputs": [],
   "source": [
    "# Do some subtraction\n"
   ]
  },
  {
   "cell_type": "code",
   "execution_count": null,
   "metadata": {
    "collapsed": false
   },
   "outputs": [],
   "source": [
    "# Use some parenthesis\n"
   ]
  },
  {
   "cell_type": "code",
   "execution_count": null,
   "metadata": {
    "collapsed": false
   },
   "outputs": [],
   "source": [
    "# Try some division"
   ]
  },
  {
   "cell_type": "markdown",
   "metadata": {},
   "source": [
    "# Lesson 2: Variables"
   ]
  },
  {
   "cell_type": "markdown",
   "metadata": {},
   "source": [
    "What makes Python a language is how it uses syntax to hold or express meaning. As mentioned before, Python let's you display messages to use user simply by using the word ``print`` followed by a message in ``\"`` marks. Using the ``=`` sign - which is called the ``assignment operator`` we can ask Python to store values as variables:"
   ]
  },
  {
   "cell_type": "code",
   "execution_count": null,
   "metadata": {
    "collapsed": false
   },
   "outputs": [],
   "source": [
    "a = 3\n",
    "b = 4\n",
    "c = 5\n",
    "a_squared_plus_b_squared = a**2 + b**2\n",
    "c_squared = c**2\n",
    "print a_squared_plus_b_squared\n",
    "print c_squared"
   ]
  },
  {
   "cell_type": "markdown",
   "metadata": {},
   "source": [
    "**Challenge:** Solve this equation showing your work using Python:\n",
    "How much 5M NaCl do you need to make 1L of 2.5M NaCl?<br>\n",
    "*hint* Concentration<sub>1</sub> * Volume<sub>1</sub> = Concentration<sub>2</sub> * Volume<sub>2</sub><br>\n",
    "*hint 2* solve for volume 1"
   ]
  },
  {
   "cell_type": "code",
   "execution_count": null,
   "metadata": {
    "collapsed": false
   },
   "outputs": [],
   "source": []
  },
  {
   "cell_type": "markdown",
   "metadata": {},
   "source": [
    "Besides math, variables could also be statements. When we put statements in characters, we refer to them as ``strings``, which can be sequences of letters, numbers, symbols, etc. "
   ]
  },
  {
   "cell_type": "code",
   "execution_count": null,
   "metadata": {
    "collapsed": false
   },
   "outputs": [],
   "source": [
    "my_string = 'Hello World'\n",
    "print my_string"
   ]
  },
  {
   "cell_type": "markdown",
   "metadata": {},
   "source": [
    "Create the variables and strings in the next codeblock to complete a mini autobiography:"
   ]
  },
  {
   "cell_type": "code",
   "execution_count": null,
   "metadata": {
    "collapsed": false
   },
   "outputs": [],
   "source": [
    "#Populate your variables before the print statements\n",
    "\n",
    "\n",
    "\n",
    "print 'My name is: ',my_name\n",
    "print 'My favorite food is: ',my_fav_food\n",
    "print 'The hobby I spend most of my time is: ', my_hobby\n",
    "print 'If I wasn\\'t here, I\\'d probably be: ',my_somewhere_else\n",
    "print \"If I wasen't using single quotes, I'd be using double quotes\"\n",
    "\n",
    "#tip, in the last print statement notice that we want to use the ' mark. We use the \n",
    "# 'escape' character \\ to tell Python to ignore that quote mark. \n"
   ]
  },
  {
   "cell_type": "markdown",
   "metadata": {},
   "source": [
    "With math and strings, you can start to do lots of things in Python. More on this in the next lesson. "
   ]
  },
  {
   "cell_type": "code",
   "execution_count": null,
   "metadata": {
    "collapsed": false
   },
   "outputs": [],
   "source": [
    "my_string = \"'ello world \"\n",
    "print my_string * 10\n",
    "print my_string * 100"
   ]
  },
  {
   "cell_type": "markdown",
   "metadata": {},
   "source": [
    "Want to try somthing else, keep going!"
   ]
  },
  {
   "cell_type": "code",
   "execution_count": null,
   "metadata": {
    "collapsed": false
   },
   "outputs": [],
   "source": []
  },
  {
   "cell_type": "code",
   "execution_count": null,
   "metadata": {
    "collapsed": true
   },
   "outputs": [],
   "source": []
  },
  {
   "cell_type": "code",
   "execution_count": null,
   "metadata": {
    "collapsed": true
   },
   "outputs": [],
   "source": []
  },
  {
   "cell_type": "markdown",
   "metadata": {},
   "source": [
    "# In honor of Pi day..."
   ]
  },
  {
   "cell_type": "markdown",
   "metadata": {},
   "source": [
    "Following the tutortial [here](http://www.craig-wood.com/nick/articles/pi-archimedes/) let's use this method to calculate pi. This uses a lot more Python than we are ready for, but we can try to get through some of it. "
   ]
  },
  {
   "cell_type": "code",
   "execution_count": 2,
   "metadata": {
    "collapsed": true
   },
   "outputs": [],
   "source": [
    "import math\n",
    "# running this cell will import a [library](http://www.thefreedictionary.com/program+library), a collection of code that we can use to save time and work. "
   ]
  },
  {
   "cell_type": "code",
   "execution_count": 13,
   "metadata": {
    "collapsed": false
   },
   "outputs": [
    {
     "name": "stdout",
     "output_type": "stream",
     "text": [
      "value of pi is 3.0614674589 on try 0\n",
      "value of pi is 3.1214451523 on try 1\n",
      "value of pi is 3.1365484905 on try 2\n",
      "value of pi is 3.1403311570 on try 3\n",
      "value of pi is 3.1412772509 on try 4\n",
      "value of pi is 3.1415138011 on try 5\n",
      "value of pi is 3.1415729404 on try 6\n",
      "value of pi is 3.1415877253 on try 7\n",
      "value of pi is 3.1415914215 on try 8\n",
      "value of pi is 3.1415923456 on try 9\n"
     ]
    }
   ],
   "source": [
    "\n",
    "polygon_edge_length_squared = 2.0\n",
    "polygon_sides = 4\n",
    "itterations = 10\n",
    "for i in range(itterations):\n",
    "    polygon_edge_length_squared = 2 - 2 * math.sqrt(1 - polygon_edge_length_squared / 4)\n",
    "    polygon_sides *= 2\n",
    "    pi = polygon_sides * math.sqrt(polygon_edge_length_squared) / 2\n",
    "    error = pi - math.pi]\n",
    "    print(\"value of pi is %.10f on try %d, error is %.10f\" % (pi,i,error))"
   ]
  },
  {
   "cell_type": "code",
   "execution_count": null,
   "metadata": {
    "collapsed": true
   },
   "outputs": [],
   "source": []
  }
 ],
 "metadata": {
  "kernelspec": {
   "display_name": "Python 3",
   "language": "python",
   "name": "python3"
  },
  "language_info": {
   "codemirror_mode": {
    "name": "ipython",
    "version": 3
   },
   "file_extension": ".py",
   "mimetype": "text/x-python",
   "name": "python",
   "nbconvert_exporter": "python",
   "pygments_lexer": "ipython3",
   "version": "3.5.1"
  }
 },
 "nbformat": 4,
 "nbformat_minor": 0
}
